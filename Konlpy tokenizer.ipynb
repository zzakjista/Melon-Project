{
 "cells": [
  {
   "cell_type": "code",
   "execution_count": 24,
   "id": "40bf2e70",
   "metadata": {},
   "outputs": [
    {
     "name": "stdout",
     "output_type": "stream",
     "text": [
      "('64bit', 'WindowsPE')\n"
     ]
    }
   ],
   "source": [
    "from konlpy.tag import Okt\n",
    "import os\n",
    "import pandas as pd \n",
    "import numpy as np\n",
    "import platform\n",
    "print(platform.architecture())"
   ]
  },
  {
   "cell_type": "code",
   "execution_count": 25,
   "id": "e15e71be",
   "metadata": {},
   "outputs": [
    {
     "name": "stdout",
     "output_type": "stream",
     "text": [
      "True\n"
     ]
    }
   ],
   "source": [
    "print(\"JAVA_HOME\" in os.environ)\n",
    "#os.environ['JAVA_HOME'] = r'C:\\Program Files\\Java\\jdk-19\\bin\\server'\n",
    "#JAVA_HOME에 대한 환경변수가 제대로 설정되지 않은 것 "
   ]
  },
  {
   "cell_type": "code",
   "execution_count": 23,
   "id": "94f18837",
   "metadata": {},
   "outputs": [
    {
     "data": {
      "text/plain": [
       "'진짜 에러찢기 너무 어렵네요ㅋ ㅎㅎ'"
      ]
     },
     "execution_count": 23,
     "metadata": {},
     "output_type": "execute_result"
    }
   ],
   "source": [
    "text = '진짜 에러찢기 너무 어렵네욬ㅋ ㅎㅎ'\n",
    "okt = Okt()\n",
    "okt.normalize(text)"
   ]
  },
  {
   "cell_type": "code",
   "execution_count": 31,
   "id": "5744f7f6",
   "metadata": {},
   "outputs": [],
   "source": [
    "data_path = \"C:/Users/user/OneDrive/바탕 화면/Untitled Folder/ML_Melon_Project\"\n",
    "train = pd.read_json(data_path+'/train.json')\n",
    "val = pd.read_json(data_path+'/val.json')"
   ]
  },
  {
   "cell_type": "code",
   "execution_count": 48,
   "id": "b09bc9fa",
   "metadata": {
    "collapsed": true
   },
   "outputs": [
    {
     "data": {
      "text/html": [
       "<div>\n",
       "<style scoped>\n",
       "    .dataframe tbody tr th:only-of-type {\n",
       "        vertical-align: middle;\n",
       "    }\n",
       "\n",
       "    .dataframe tbody tr th {\n",
       "        vertical-align: top;\n",
       "    }\n",
       "\n",
       "    .dataframe thead th {\n",
       "        text-align: right;\n",
       "    }\n",
       "</style>\n",
       "<table border=\"1\" class=\"dataframe\">\n",
       "  <thead>\n",
       "    <tr style=\"text-align: right;\">\n",
       "      <th></th>\n",
       "      <th>tags</th>\n",
       "      <th>id</th>\n",
       "      <th>plylst_title</th>\n",
       "      <th>songs</th>\n",
       "      <th>like_cnt</th>\n",
       "      <th>updt_date</th>\n",
       "    </tr>\n",
       "  </thead>\n",
       "  <tbody>\n",
       "    <tr>\n",
       "      <th>1</th>\n",
       "      <td>[]</td>\n",
       "      <td>131447</td>\n",
       "      <td>앨리스테이블</td>\n",
       "      <td>[]</td>\n",
       "      <td>1</td>\n",
       "      <td>2014-07-16 15:24:24.000</td>\n",
       "    </tr>\n",
       "    <tr>\n",
       "      <th>9</th>\n",
       "      <td>[]</td>\n",
       "      <td>142007</td>\n",
       "      <td>기분 좋은 재즈와 함께 만드는 달달한 하루</td>\n",
       "      <td>[]</td>\n",
       "      <td>0</td>\n",
       "      <td>2015-06-22 09:11:02.000</td>\n",
       "    </tr>\n",
       "    <tr>\n",
       "      <th>35</th>\n",
       "      <td>[]</td>\n",
       "      <td>65114</td>\n",
       "      <td>■■■■ 사랑,그리고이별 ■■■■</td>\n",
       "      <td>[]</td>\n",
       "      <td>6</td>\n",
       "      <td>2010-10-27 10:34:34.000</td>\n",
       "    </tr>\n",
       "    <tr>\n",
       "      <th>57</th>\n",
       "      <td>[]</td>\n",
       "      <td>87700</td>\n",
       "      <td>마쉬멜로우같은 멜로우한 음악</td>\n",
       "      <td>[]</td>\n",
       "      <td>6</td>\n",
       "      <td>2016-01-14 10:19:30.000</td>\n",
       "    </tr>\n",
       "    <tr>\n",
       "      <th>71</th>\n",
       "      <td>[]</td>\n",
       "      <td>35271</td>\n",
       "      <td>공부와 독서를 위한 #Newage</td>\n",
       "      <td>[]</td>\n",
       "      <td>10</td>\n",
       "      <td>2020-01-17 15:46:20.000</td>\n",
       "    </tr>\n",
       "    <tr>\n",
       "      <th>...</th>\n",
       "      <td>...</td>\n",
       "      <td>...</td>\n",
       "      <td>...</td>\n",
       "      <td>...</td>\n",
       "      <td>...</td>\n",
       "      <td>...</td>\n",
       "    </tr>\n",
       "    <tr>\n",
       "      <th>22903</th>\n",
       "      <td>[]</td>\n",
       "      <td>140513</td>\n",
       "      <td>10년이 지나 들어도 좋은 감성 Ballad</td>\n",
       "      <td>[]</td>\n",
       "      <td>405</td>\n",
       "      <td>2016-01-11 10:58:05.000</td>\n",
       "    </tr>\n",
       "    <tr>\n",
       "      <th>22920</th>\n",
       "      <td>[]</td>\n",
       "      <td>124704</td>\n",
       "      <td>가사의 의미와 뜻은모른다!! 오직 멜로디로만 선곡한 팝송!!</td>\n",
       "      <td>[]</td>\n",
       "      <td>27</td>\n",
       "      <td>2016-02-05 12:31:59.000</td>\n",
       "    </tr>\n",
       "    <tr>\n",
       "      <th>22981</th>\n",
       "      <td>[]</td>\n",
       "      <td>13045</td>\n",
       "      <td>＊카페 느낌 샹송♭</td>\n",
       "      <td>[]</td>\n",
       "      <td>38</td>\n",
       "      <td>2011-07-12 00:58:39.000</td>\n",
       "    </tr>\n",
       "    <tr>\n",
       "      <th>22991</th>\n",
       "      <td>[]</td>\n",
       "      <td>32537</td>\n",
       "      <td>컨트리 황제 조니 캐시가 선 레코드 시절 발표한 초기 대표작</td>\n",
       "      <td>[]</td>\n",
       "      <td>28</td>\n",
       "      <td>2019-06-17 14:22:48.000</td>\n",
       "    </tr>\n",
       "    <tr>\n",
       "      <th>22996</th>\n",
       "      <td>[]</td>\n",
       "      <td>86721</td>\n",
       "      <td>해 저무는 밤</td>\n",
       "      <td>[]</td>\n",
       "      <td>5</td>\n",
       "      <td>2016-04-27 15:32:55.000</td>\n",
       "    </tr>\n",
       "  </tbody>\n",
       "</table>\n",
       "<p>1749 rows × 6 columns</p>\n",
       "</div>"
      ],
      "text/plain": [
       "      tags      id                       plylst_title songs  like_cnt  \\\n",
       "1       []  131447                             앨리스테이블    []         1   \n",
       "9       []  142007            기분 좋은 재즈와 함께 만드는 달달한 하루    []         0   \n",
       "35      []   65114                 ■■■■ 사랑,그리고이별 ■■■■    []         6   \n",
       "57      []   87700                    마쉬멜로우같은 멜로우한 음악    []         6   \n",
       "71      []   35271                 공부와 독서를 위한 #Newage    []        10   \n",
       "...    ...     ...                                ...   ...       ...   \n",
       "22903   []  140513           10년이 지나 들어도 좋은 감성 Ballad    []       405   \n",
       "22920   []  124704  가사의 의미와 뜻은모른다!! 오직 멜로디로만 선곡한 팝송!!    []        27   \n",
       "22981   []   13045                         ＊카페 느낌 샹송♭    []        38   \n",
       "22991   []   32537  컨트리 황제 조니 캐시가 선 레코드 시절 발표한 초기 대표작    []        28   \n",
       "22996   []   86721                            해 저무는 밤    []         5   \n",
       "\n",
       "                     updt_date  \n",
       "1      2014-07-16 15:24:24.000  \n",
       "9      2015-06-22 09:11:02.000  \n",
       "35     2010-10-27 10:34:34.000  \n",
       "57     2016-01-14 10:19:30.000  \n",
       "71     2020-01-17 15:46:20.000  \n",
       "...                        ...  \n",
       "22903  2016-01-11 10:58:05.000  \n",
       "22920  2016-02-05 12:31:59.000  \n",
       "22981  2011-07-12 00:58:39.000  \n",
       "22991  2019-06-17 14:22:48.000  \n",
       "22996  2016-04-27 15:32:55.000  \n",
       "\n",
       "[1749 rows x 6 columns]"
      ]
     },
     "execution_count": 48,
     "metadata": {},
     "output_type": "execute_result"
    }
   ],
   "source": [
    "#태그와 곡이 없는 validation data 추출\n",
    "val[(val['songs']+val['tags']).map(len)==0]"
   ]
  },
  {
   "cell_type": "code",
   "execution_count": 269,
   "id": "d6f8832c",
   "metadata": {},
   "outputs": [],
   "source": [
    "import json\n",
    "import re\n",
    "from collections import Counter\n",
    "from typing import *\n",
    "\n",
    "import matplotlib.pyplot as plt\n",
    "plt.rcdefaults()\n",
    "import seaborn as sns\n",
    "import numpy as np\n",
    "import pandas as pd\n",
    "from konlpy.tag import Komoran, Okt"
   ]
  },
  {
   "cell_type": "code",
   "execution_count": 279,
   "id": "29a34795",
   "metadata": {},
   "outputs": [],
   "source": [
    "def re_sub(series: pd.Series):\n",
    "    series = series.str.replace(pat=r'[ㄱ-ㅎ]',repl=r'',regex=True)\n",
    "    series = series.str.replace(pat=r'[^\\w\\s]',repl=r'',regex=True)\n",
    "    series = series.str.replace(pat=r'[ ]{2,}',repl=r' ',regex=True)\n",
    "    series = series.str.replace(pat=r'[\\u3000]+',repl=r'',regex=True)\n",
    "    return series\n",
    "\n",
    "def flatten(list_of_list : List):\n",
    "    flatten = [j for i in list_of_list for j in i] #밖에꺼까고 안에꺼까고\n",
    "    return flatten\n",
    "\n",
    "def get_token(title: str, tokenizer):\n",
    "    if len(title) == 0 or title== ' ':\n",
    "        return []\n",
    "    result = tokenizer.pos(title)\n",
    "    return result\n",
    "def get_all_tags(df):\n",
    "    tag_list = df['tags'].values.tolist()\n",
    "    tag_list = flatten(tag_list)\n",
    "    return tag_list"
   ]
  },
  {
   "cell_type": "code",
   "execution_count": 123,
   "id": "7d9d6313",
   "metadata": {},
   "outputs": [],
   "source": [
    "tokenizer = Komoran()\n",
    "all_tag = get_all_tags(train)"
   ]
  },
  {
   "cell_type": "code",
   "execution_count": 145,
   "id": "bf57112b",
   "metadata": {},
   "outputs": [],
   "source": [
    "token_tag = [get_token(x,tokenizer) for x in all_tag]"
   ]
  },
  {
   "cell_type": "code",
   "execution_count": 170,
   "id": "4c717a0c",
   "metadata": {},
   "outputs": [],
   "source": [
    "token_itself = list(filter(lambda x : len(x)==1,token_tag))\n",
    "token_itself = flatten(token_itself)\n",
    "flatten_token = flatten(token_tag)"
   ]
  },
  {
   "cell_type": "code",
   "execution_count": 247,
   "id": "1013871e",
   "metadata": {},
   "outputs": [
    {
     "name": "stdout",
     "output_type": "stream",
     "text": [
      "# of original tag is       476,331\n",
      "# of morpheme itself is    733,087\n",
      "# of total token is        321,322\n"
     ]
    }
   ],
   "source": [
    "print('%-23s'%'# of original tag is', f'{len(all_tag):10,}')\n",
    "print('%-23s'%'# of morpheme itself is', f'{len(flatten_token):10,}')\n",
    "print('%-23s'%'# of total token is', f'{len(token_itself):10,}')"
   ]
  },
  {
   "cell_type": "code",
   "execution_count": 254,
   "id": "2ddbf391",
   "metadata": {},
   "outputs": [],
   "source": [
    "pos = [x[1] for x in token_itself]\n",
    "pos_count = Counter(pos)\n",
    "popular_pos = pos_count.most_common()"
   ]
  },
  {
   "cell_type": "code",
   "execution_count": 273,
   "id": "509a2aea",
   "metadata": {
    "scrolled": true
   },
   "outputs": [
    {
     "data": {
      "image/png": "[encoded data removed]",
      "text/plain": [
       "<Figure size 640x480 with 1 Axes>"
      ]
     },
     "metadata": {},
     "output_type": "display_data"
    }
   ],
   "source": [
    "objects = [x[0] for x in popular_pos]\n",
    "y_pos = np.arange(len(objects))\n",
    "performance  = [x[1] for x in popular_pos]\n",
    "\n",
    "plt.barh(y_pos, performance, align='center', alpha=0.5)\n",
    "plt.yticks(y_pos, objects)\n",
    "plt.xlabel('Usage')\n",
    "plt.title('Part of Speech - Tags')\n",
    "\n",
    "plt.show()"
   ]
  },
  {
   "cell_type": "markdown",
   "id": "4a55e88b",
   "metadata": {},
   "source": [
    "### 플레이리스트 제목으로 형태소 분석"
   ]
  },
  {
   "cell_type": "code",
   "execution_count": 284,
   "id": "3275d30a",
   "metadata": {},
   "outputs": [],
   "source": [
    "train['plylst_title'] = re_sub(train['plylst_title'])\n",
    "train.loc[:, 'ply_token'] = train['plylst_title'].map(lambda x : get_token(x,tokenizer))"
   ]
  },
  {
   "cell_type": "code",
   "execution_count": 286,
   "id": "12554818",
   "metadata": {},
   "outputs": [
    {
     "data": {
      "text/plain": [
       "<function __main__.<lambda>(x)>"
      ]
     },
     "execution_count": 286,
     "metadata": {},
     "output_type": "execute_result"
    }
   ],
   "source": [
    "lambda x: list(filter(lambda x: x[1] in using_pos, x))"
   ]
  },
  {
   "cell_type": "code",
   "execution_count": 299,
   "id": "47f896f0",
   "metadata": {
    "scrolled": true
   },
   "outputs": [],
   "source": [
    "using_pos = ['NNG','SL','NNP','MAG','SN']  # 일반 명사, 외국어, 고유 명사, 일반 부사, 숫자\n",
    "train['ply_token']=train['ply_token'].map(lambda x : list(filter(lambda x: x[1] in using_pos,x)))\n",
    "#첫번째 lambda는 using_pos의 품사로만 필터링을 수행하고 \n",
    "#두번째 lambda는 해당 필터를 ply_token에 적용하는것이다"
   ]
  },
  {
   "cell_type": "code",
   "execution_count": 307,
   "id": "0ae5a641",
   "metadata": {
    "scrolled": true
   },
   "outputs": [],
   "source": [
    "unique_token = set(token_itself)"
   ]
  },
  {
   "cell_type": "code",
   "execution_count": 313,
   "id": "22cb929b",
   "metadata": {},
   "outputs": [
    {
     "data": {
      "text/plain": [
       "0                                    [(여행, NNG), (음악, NNG)]\n",
       "1                                     [(요즘, NNG), (말, NNG)]\n",
       "2                                                [(곡, NNG)]\n",
       "3                     [(크리스마스, NNP), (분위기, NNG), (흠뻑, MAG)]\n",
       "4                                    [(추억, NNP), (노래, NNG)]\n",
       "                                ...                        \n",
       "115066                                            [(2, SN)]\n",
       "115067    [(따끈따끈, MAG), (최신, NNG), (인기, NNG), (EDM, SL),...\n",
       "115068                     [(1, SN), (눈물, NNG), (이야기, NNP)]\n",
       "115069        [(퇴근, NNG), (버스, NNG), (하루, NNG), (마무리, NNG)]\n",
       "115070                                                   []\n",
       "Name: ply_token, Length: 115071, dtype: object"
      ]
     },
     "execution_count": 313,
     "metadata": {},
     "output_type": "execute_result"
    }
   ],
   "source": [
    "unique_word = [x[0] for x in unique_token]\n",
    "train['ply_token'].map(lambda x : list(filter(lambda x: x[0] in unique_word,x)))\n"
   ]
  }
 ],
 "metadata": {
  "kernelspec": {
   "display_name": "Python 3 (ipykernel)",
   "language": "python",
   "name": "python3"
  },
  "language_info": {
   "codemirror_mode": {
    "name": "ipython",
    "version": 3
   },
   "file_extension": ".py",
   "mimetype": "text/x-python",
   "name": "python",
   "nbconvert_exporter": "python",
   "pygments_lexer": "ipython3",
   "version": "3.9.7"
  }
 },
 "nbformat": 4,
 "nbformat_minor": 5
}
